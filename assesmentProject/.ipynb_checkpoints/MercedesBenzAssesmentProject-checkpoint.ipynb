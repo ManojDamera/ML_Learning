{
 "cells": [
  {
   "cell_type": "markdown",
   "metadata": {},
   "source": [
    "## Mercedes Benz Greener Manufacturing\n",
    "### Type: Regression\n",
    "#### Problem Statement: Reduce the time a Mercedes-Benz spends on the test bench"
   ]
  },
  {
   "cell_type": "code",
   "execution_count": 1,
   "metadata": {},
   "outputs": [],
   "source": [
    "import pandas as pd\n",
    "import numpy as np\n",
    "import matplotlib.pyplot as plt\n",
    "import seaborn as sns\n",
    "%matplotlib inline\n",
    "sns.set()"
   ]
  },
  {
   "cell_type": "markdown",
   "metadata": {},
   "source": [
    "#### Import Dataset"
   ]
  },
  {
   "cell_type": "code",
   "execution_count": 2,
   "metadata": {},
   "outputs": [
    {
     "name": "stdout",
     "output_type": "stream",
     "text": [
      "<class 'pandas.core.frame.DataFrame'>\n",
      "RangeIndex: 4209 entries, 0 to 4208\n",
      "Columns: 378 entries, ID to X385\n",
      "dtypes: float64(1), int64(369), object(8)\n",
      "memory usage: 12.1+ MB\n"
     ]
    }
   ],
   "source": [
    "df = pd.read_csv('train.csv')\n",
    "df.info()"
   ]
  },
  {
   "cell_type": "code",
   "execution_count": 3,
   "metadata": {},
   "outputs": [
    {
     "data": {
      "text/html": [
       "<div>\n",
       "<style scoped>\n",
       "    .dataframe tbody tr th:only-of-type {\n",
       "        vertical-align: middle;\n",
       "    }\n",
       "\n",
       "    .dataframe tbody tr th {\n",
       "        vertical-align: top;\n",
       "    }\n",
       "\n",
       "    .dataframe thead th {\n",
       "        text-align: right;\n",
       "    }\n",
       "</style>\n",
       "<table border=\"1\" class=\"dataframe\">\n",
       "  <thead>\n",
       "    <tr style=\"text-align: right;\">\n",
       "      <th></th>\n",
       "      <th>ID</th>\n",
       "      <th>y</th>\n",
       "      <th>X0</th>\n",
       "      <th>X1</th>\n",
       "      <th>X2</th>\n",
       "      <th>X3</th>\n",
       "      <th>X4</th>\n",
       "      <th>X5</th>\n",
       "      <th>X6</th>\n",
       "      <th>X8</th>\n",
       "      <th>...</th>\n",
       "      <th>X375</th>\n",
       "      <th>X376</th>\n",
       "      <th>X377</th>\n",
       "      <th>X378</th>\n",
       "      <th>X379</th>\n",
       "      <th>X380</th>\n",
       "      <th>X382</th>\n",
       "      <th>X383</th>\n",
       "      <th>X384</th>\n",
       "      <th>X385</th>\n",
       "    </tr>\n",
       "  </thead>\n",
       "  <tbody>\n",
       "    <tr>\n",
       "      <th>0</th>\n",
       "      <td>0</td>\n",
       "      <td>130.81</td>\n",
       "      <td>k</td>\n",
       "      <td>v</td>\n",
       "      <td>at</td>\n",
       "      <td>a</td>\n",
       "      <td>d</td>\n",
       "      <td>u</td>\n",
       "      <td>j</td>\n",
       "      <td>o</td>\n",
       "      <td>...</td>\n",
       "      <td>0</td>\n",
       "      <td>0</td>\n",
       "      <td>1</td>\n",
       "      <td>0</td>\n",
       "      <td>0</td>\n",
       "      <td>0</td>\n",
       "      <td>0</td>\n",
       "      <td>0</td>\n",
       "      <td>0</td>\n",
       "      <td>0</td>\n",
       "    </tr>\n",
       "    <tr>\n",
       "      <th>1</th>\n",
       "      <td>6</td>\n",
       "      <td>88.53</td>\n",
       "      <td>k</td>\n",
       "      <td>t</td>\n",
       "      <td>av</td>\n",
       "      <td>e</td>\n",
       "      <td>d</td>\n",
       "      <td>y</td>\n",
       "      <td>l</td>\n",
       "      <td>o</td>\n",
       "      <td>...</td>\n",
       "      <td>1</td>\n",
       "      <td>0</td>\n",
       "      <td>0</td>\n",
       "      <td>0</td>\n",
       "      <td>0</td>\n",
       "      <td>0</td>\n",
       "      <td>0</td>\n",
       "      <td>0</td>\n",
       "      <td>0</td>\n",
       "      <td>0</td>\n",
       "    </tr>\n",
       "    <tr>\n",
       "      <th>2</th>\n",
       "      <td>7</td>\n",
       "      <td>76.26</td>\n",
       "      <td>az</td>\n",
       "      <td>w</td>\n",
       "      <td>n</td>\n",
       "      <td>c</td>\n",
       "      <td>d</td>\n",
       "      <td>x</td>\n",
       "      <td>j</td>\n",
       "      <td>x</td>\n",
       "      <td>...</td>\n",
       "      <td>0</td>\n",
       "      <td>0</td>\n",
       "      <td>0</td>\n",
       "      <td>0</td>\n",
       "      <td>0</td>\n",
       "      <td>0</td>\n",
       "      <td>1</td>\n",
       "      <td>0</td>\n",
       "      <td>0</td>\n",
       "      <td>0</td>\n",
       "    </tr>\n",
       "    <tr>\n",
       "      <th>3</th>\n",
       "      <td>9</td>\n",
       "      <td>80.62</td>\n",
       "      <td>az</td>\n",
       "      <td>t</td>\n",
       "      <td>n</td>\n",
       "      <td>f</td>\n",
       "      <td>d</td>\n",
       "      <td>x</td>\n",
       "      <td>l</td>\n",
       "      <td>e</td>\n",
       "      <td>...</td>\n",
       "      <td>0</td>\n",
       "      <td>0</td>\n",
       "      <td>0</td>\n",
       "      <td>0</td>\n",
       "      <td>0</td>\n",
       "      <td>0</td>\n",
       "      <td>0</td>\n",
       "      <td>0</td>\n",
       "      <td>0</td>\n",
       "      <td>0</td>\n",
       "    </tr>\n",
       "    <tr>\n",
       "      <th>4</th>\n",
       "      <td>13</td>\n",
       "      <td>78.02</td>\n",
       "      <td>az</td>\n",
       "      <td>v</td>\n",
       "      <td>n</td>\n",
       "      <td>f</td>\n",
       "      <td>d</td>\n",
       "      <td>h</td>\n",
       "      <td>d</td>\n",
       "      <td>n</td>\n",
       "      <td>...</td>\n",
       "      <td>0</td>\n",
       "      <td>0</td>\n",
       "      <td>0</td>\n",
       "      <td>0</td>\n",
       "      <td>0</td>\n",
       "      <td>0</td>\n",
       "      <td>0</td>\n",
       "      <td>0</td>\n",
       "      <td>0</td>\n",
       "      <td>0</td>\n",
       "    </tr>\n",
       "  </tbody>\n",
       "</table>\n",
       "<p>5 rows × 378 columns</p>\n",
       "</div>"
      ],
      "text/plain": [
       "   ID       y  X0 X1  X2 X3 X4 X5 X6 X8  ...  X375  X376  X377  X378  X379  \\\n",
       "0   0  130.81   k  v  at  a  d  u  j  o  ...     0     0     1     0     0   \n",
       "1   6   88.53   k  t  av  e  d  y  l  o  ...     1     0     0     0     0   \n",
       "2   7   76.26  az  w   n  c  d  x  j  x  ...     0     0     0     0     0   \n",
       "3   9   80.62  az  t   n  f  d  x  l  e  ...     0     0     0     0     0   \n",
       "4  13   78.02  az  v   n  f  d  h  d  n  ...     0     0     0     0     0   \n",
       "\n",
       "   X380  X382  X383  X384  X385  \n",
       "0     0     0     0     0     0  \n",
       "1     0     0     0     0     0  \n",
       "2     0     1     0     0     0  \n",
       "3     0     0     0     0     0  \n",
       "4     0     0     0     0     0  \n",
       "\n",
       "[5 rows x 378 columns]"
      ]
     },
     "execution_count": 3,
     "metadata": {},
     "output_type": "execute_result"
    }
   ],
   "source": [
    "df.head()"
   ]
  },
  {
   "cell_type": "markdown",
   "metadata": {},
   "source": [
    "#### Exploratory Data Analysis"
   ]
  },
  {
   "cell_type": "code",
   "execution_count": 4,
   "metadata": {},
   "outputs": [],
   "source": [
    "y = df['y'].values"
   ]
  },
  {
   "cell_type": "code",
   "execution_count": 5,
   "metadata": {},
   "outputs": [
    {
     "data": {
      "image/png": "[encoded data removed]",
      "text/plain": [
       "<Figure size 1080x432 with 1 Axes>"
      ]
     },
     "metadata": {},
     "output_type": "display_data"
    }
   ],
   "source": [
    "plt.figure(figsize=(15,6))\n",
    "plt.hist(y,bins=20)\n",
    "plt.xlabel('time')\n",
    "plt.ylabel('# of times');"
   ]
  },
  {
   "cell_type": "markdown",
   "metadata": {},
   "source": [
    "1. Distribution of output variable is pretty much centered around the mean\n",
    "2. Target variable has some outliers on the right side"
   ]
  },
  {
   "cell_type": "markdown",
   "metadata": {},
   "source": [
    "#### Checking whether things are changing over time"
   ]
  },
  {
   "cell_type": "code",
   "execution_count": 6,
   "metadata": {},
   "outputs": [
    {
     "data": {
      "image/png": "[encoded data removed]",
      "text/plain": [
       "<Figure size 1080x432 with 1 Axes>"
      ]
     },
     "metadata": {},
     "output_type": "display_data"
    }
   ],
   "source": [
    "plt.figure(figsize=(15,6))\n",
    "plt.plot(y);"
   ]
  },
  {
   "cell_type": "markdown",
   "metadata": {},
   "source": [
    "Data is stationary"
   ]
  },
  {
   "cell_type": "markdown",
   "metadata": {},
   "source": [
    "### Feature Analysis"
   ]
  },
  {
   "cell_type": "code",
   "execution_count": 7,
   "metadata": {},
   "outputs": [
    {
     "name": "stdout",
     "output_type": "stream",
     "text": [
      "number of features 376\n",
      "\n",
      "feature types :\n",
      "int64     368\n",
      "object      8\n",
      "dtype: int64\n"
     ]
    }
   ],
   "source": [
    "cols = [c for c in df.columns if 'X' in c]\n",
    "print(f'number of features {len(cols)}')\n",
    "print(f'\\nfeature types :\\n{df[cols].dtypes.value_counts()}')"
   ]
  },
  {
   "cell_type": "markdown",
   "metadata": {},
   "source": [
    "#### Find Cardinality\n",
    "1. Create a list of 3 lists\n",
    "2. Iterate over columns\n",
    "3. In iterator:\n",
    "    a. find type of al lcolumns\n",
    "    b. find # of unique values in each column\n",
    "    c. if uniqueval = 1, assign in cnt[0], if 2 assign in cnt[1], esle assign in cnt[2]"
   ]
  },
  {
   "cell_type": "code",
   "execution_count": 8,
   "metadata": {},
   "outputs": [
    {
     "name": "stdout",
     "output_type": "stream",
     "text": [
      "Constant Features['X11', 'X93', 'X107', 'X233', 'X235', 'X268', 'X289', 'X290', 'X293', 'X297', 'X330', 'X347']\n",
      "\n",
      " Binary Features ['X10', 'X12', 'X13', 'X14', 'X15', 'X16', 'X17', 'X18', 'X19', 'X20', 'X21', 'X22', 'X23', 'X24', 'X26', 'X27', 'X28', 'X29', 'X30', 'X31', 'X32', 'X33', 'X34', 'X35', 'X36', 'X37', 'X38', 'X39', 'X40', 'X41', 'X42', 'X43', 'X44', 'X45', 'X46', 'X47', 'X48', 'X49', 'X50', 'X51', 'X52', 'X53', 'X54', 'X55', 'X56', 'X57', 'X58', 'X59', 'X60', 'X61', 'X62', 'X63', 'X64', 'X65', 'X66', 'X67', 'X68', 'X69', 'X70', 'X71', 'X73', 'X74', 'X75', 'X76', 'X77', 'X78', 'X79', 'X80', 'X81', 'X82', 'X83', 'X84', 'X85', 'X86', 'X87', 'X88', 'X89', 'X90', 'X91', 'X92', 'X94', 'X95', 'X96', 'X97', 'X98', 'X99', 'X100', 'X101', 'X102', 'X103', 'X104', 'X105', 'X106', 'X108', 'X109', 'X110', 'X111', 'X112', 'X113', 'X114', 'X115', 'X116', 'X117', 'X118', 'X119', 'X120', 'X122', 'X123', 'X124', 'X125', 'X126', 'X127', 'X128', 'X129', 'X130', 'X131', 'X132', 'X133', 'X134', 'X135', 'X136', 'X137', 'X138', 'X139', 'X140', 'X141', 'X142', 'X143', 'X144', 'X145', 'X146', 'X147', 'X148', 'X150', 'X151', 'X152', 'X153', 'X154', 'X155', 'X156', 'X157', 'X158', 'X159', 'X160', 'X161', 'X162', 'X163', 'X164', 'X165', 'X166', 'X167', 'X168', 'X169', 'X170', 'X171', 'X172', 'X173', 'X174', 'X175', 'X176', 'X177', 'X178', 'X179', 'X180', 'X181', 'X182', 'X183', 'X184', 'X185', 'X186', 'X187', 'X189', 'X190', 'X191', 'X192', 'X194', 'X195', 'X196', 'X197', 'X198', 'X199', 'X200', 'X201', 'X202', 'X203', 'X204', 'X205', 'X206', 'X207', 'X208', 'X209', 'X210', 'X211', 'X212', 'X213', 'X214', 'X215', 'X216', 'X217', 'X218', 'X219', 'X220', 'X221', 'X222', 'X223', 'X224', 'X225', 'X226', 'X227', 'X228', 'X229', 'X230', 'X231', 'X232', 'X234', 'X236', 'X237', 'X238', 'X239', 'X240', 'X241', 'X242', 'X243', 'X244', 'X245', 'X246', 'X247', 'X248', 'X249', 'X250', 'X251', 'X252', 'X253', 'X254', 'X255', 'X256', 'X257', 'X258', 'X259', 'X260', 'X261', 'X262', 'X263', 'X264', 'X265', 'X266', 'X267', 'X269', 'X270', 'X271', 'X272', 'X273', 'X274', 'X275', 'X276', 'X277', 'X278', 'X279', 'X280', 'X281', 'X282', 'X283', 'X284', 'X285', 'X286', 'X287', 'X288', 'X291', 'X292', 'X294', 'X295', 'X296', 'X298', 'X299', 'X300', 'X301', 'X302', 'X304', 'X305', 'X306', 'X307', 'X308', 'X309', 'X310', 'X311', 'X312', 'X313', 'X314', 'X315', 'X316', 'X317', 'X318', 'X319', 'X320', 'X321', 'X322', 'X323', 'X324', 'X325', 'X326', 'X327', 'X328', 'X329', 'X331', 'X332', 'X333', 'X334', 'X335', 'X336', 'X337', 'X338', 'X339', 'X340', 'X341', 'X342', 'X343', 'X344', 'X345', 'X346', 'X348', 'X349', 'X350', 'X351', 'X352', 'X353', 'X354', 'X355', 'X356', 'X357', 'X358', 'X359', 'X360', 'X361', 'X362', 'X363', 'X364', 'X365', 'X366', 'X367', 'X368', 'X369', 'X370', 'X371', 'X372', 'X373', 'X374', 'X375', 'X376', 'X377', 'X378', 'X379', 'X380', 'X382', 'X383', 'X384', 'X385']\n",
      " Categorical Features ['X0', 'X1', 'X2', 'X3', 'X4', 'X5', 'X6', 'X8']\n"
     ]
    }
   ],
   "source": [
    "cnt = [[],[],[]]\n",
    "for c in cols:\n",
    "    typ = df[c].dtype\n",
    "    uniq = len(np.unique(df[c]))\n",
    "    if uniq==1: cnt[0].append(c)\n",
    "    elif (uniq==2 and typ == np.int64): cnt[1].append(c)\n",
    "    else: cnt[2].append(c)\n",
    "\n",
    "print(f'Constant Features{cnt[0]}\\n\\n Binary Features {cnt[1]}\\n Categorical Features {cnt[2]}')        "
   ]
  },
  {
   "cell_type": "markdown",
   "metadata": {},
   "source": [
    "### Cleaning Data"
   ]
  },
  {
   "cell_type": "code",
   "execution_count": 9,
   "metadata": {},
   "outputs": [],
   "source": [
    "dft = pd.read_csv('test.csv')"
   ]
  },
  {
   "cell_type": "markdown",
   "metadata": {},
   "source": [
    "* If for any column(s), the variance is equal to zero, then you need to remove those variable(s).\n",
    "* Check for null and unique values for test and train sets.\n",
    "* Apply label encoder."
   ]
  },
  {
   "cell_type": "code",
   "execution_count": 10,
   "metadata": {},
   "outputs": [
    {
     "name": "stderr",
     "output_type": "stream",
     "text": [
      "C:\\Users\\manoj\\anaconda3\\lib\\site-packages\\ipykernel_launcher.py:19: SettingWithCopyWarning: \n",
      "A value is trying to be set on a copy of a slice from a DataFrame.\n",
      "Try using .loc[row_indexer,col_indexer] = value instead\n",
      "\n",
      "See the caveats in the documentation: https://pandas.pydata.org/pandas-docs/stable/user_guide/indexing.html#returning-a-view-versus-a-copy\n",
      "C:\\Users\\manoj\\anaconda3\\lib\\site-packages\\ipykernel_launcher.py:20: SettingWithCopyWarning: \n",
      "A value is trying to be set on a copy of a slice from a DataFrame.\n",
      "Try using .loc[row_indexer,col_indexer] = value instead\n",
      "\n",
      "See the caveats in the documentation: https://pandas.pydata.org/pandas-docs/stable/user_guide/indexing.html#returning-a-view-versus-a-copy\n"
     ]
    }
   ],
   "source": [
    "features = list(set(df.columns)-set(['ID','y']))\n",
    "\n",
    "X_train = df[features]\n",
    "y_train = df['y'].values\n",
    "X_test = dft[features]\n",
    "id_test = df['ID'].values\n",
    "\n",
    "for col in features:\n",
    "    cardinality = len(np.unique(X_train[col]))\n",
    "    \n",
    "    ## Dropping constant columns\n",
    "    if cardinality == 1:\n",
    "        X_train.drop(col,axis=1)\n",
    "        X_test.drop(col,axis=1)\n",
    "        \n",
    "    #Label Encoding using ord\n",
    "    if cardinality>2:\n",
    "        mapper = lambda x: sum(ord(digit) for digit in x)\n",
    "        X_train[col] = X_train[col].apply(mapper)\n",
    "        X_test[col] = X_test[col].apply(mapper)"
   ]
  },
  {
   "cell_type": "code",
   "execution_count": 11,
   "metadata": {},
   "outputs": [
    {
     "data": {
      "text/plain": [
       "86"
      ]
     },
     "execution_count": 11,
     "metadata": {},
     "output_type": "execute_result"
    }
   ],
   "source": [
    "ord('V')"
   ]
  },
  {
   "cell_type": "markdown",
   "metadata": {},
   "source": [
    "### Modelling with XG Boost before applying PCA"
   ]
  },
  {
   "cell_type": "code",
   "execution_count": 12,
   "metadata": {},
   "outputs": [
    {
     "name": "stdout",
     "output_type": "stream",
     "text": [
      "[14:01:18] WARNING: C:\\Users\\Administrator\\workspace\\xgboost-win64_release_1.2.0\\src\\learner.cc:516: \n",
      "Parameters: { Objective } might not be used.\n",
      "\n",
      "  This may not be accurate due to some parameters are only used in language bindings but\n",
      "  passed down to XGBoost core.  Or some parameters are not used but slip through this\n",
      "  verification. Please open an issue if you find above cases.\n",
      "\n",
      "\n",
      "[0]\tTrain-rmse:98.98858\tValidation-rmse:98.87984\tTrain-r2:-59.48709\tValidation-r2:-61.81546\n",
      "Multiple eval metrics have been passed: 'Validation-r2' will be used for early stopping.\n",
      "\n",
      "Will train until Validation-r2 hasn't improved in 50 rounds.\n",
      "[10]\tTrain-rmse:81.05274\tValidation-rmse:80.98148\tTrain-r2:-39.55346\tValidation-r2:-41.13300\n",
      "[20]\tTrain-rmse:66.42594\tValidation-rmse:66.38055\tTrain-r2:-26.23755\tValidation-r2:-27.30953\n",
      "[30]\tTrain-rmse:54.51056\tValidation-rmse:54.48060\tTrain-r2:-17.34230\tValidation-r2:-18.06930\n",
      "[40]\tTrain-rmse:44.81946\tValidation-rmse:44.79547\tTrain-r2:-11.40012\tValidation-r2:-11.89197\n",
      "[50]\tTrain-rmse:36.95561\tValidation-rmse:36.92964\tTrain-r2:-7.43050\tValidation-r2:-7.76196\n",
      "[60]\tTrain-rmse:30.59483\tValidation-rmse:30.56290\tTrain-r2:-4.77815\tValidation-r2:-5.00123\n",
      "[70]\tTrain-rmse:25.47354\tValidation-rmse:25.42913\tTrain-r2:-3.00563\tValidation-r2:-3.15445\n",
      "[80]\tTrain-rmse:21.37661\tValidation-rmse:21.31906\tTrain-r2:-1.82079\tValidation-r2:-1.92003\n",
      "[90]\tTrain-rmse:18.12556\tValidation-rmse:18.04581\tTrain-r2:-1.02803\tValidation-r2:-1.09220\n",
      "[100]\tTrain-rmse:15.57313\tValidation-rmse:15.46897\tTrain-r2:-0.49708\tValidation-r2:-0.53735\n",
      "[110]\tTrain-rmse:13.59580\tValidation-rmse:13.46842\tTrain-r2:-0.14104\tValidation-r2:-0.16542\n",
      "[120]\tTrain-rmse:12.08971\tValidation-rmse:11.94133\tTrain-r2:0.09775\tValidation-r2:0.08387\n",
      "[130]\tTrain-rmse:10.96096\tValidation-rmse:10.79226\tTrain-r2:0.25837\tValidation-r2:0.25170\n",
      "[140]\tTrain-rmse:10.12965\tValidation-rmse:9.94660\tTrain-r2:0.36660\tValidation-r2:0.36438\n",
      "[150]\tTrain-rmse:9.52742\tValidation-rmse:9.33358\tTrain-r2:0.43967\tValidation-r2:0.44031\n",
      "[160]\tTrain-rmse:9.09220\tValidation-rmse:8.89270\tTrain-r2:0.48969\tValidation-r2:0.49194\n",
      "[170]\tTrain-rmse:8.78256\tValidation-rmse:8.58166\tTrain-r2:0.52386\tValidation-r2:0.52685\n",
      "[180]\tTrain-rmse:8.56373\tValidation-rmse:8.36920\tTrain-r2:0.54729\tValidation-r2:0.54999\n",
      "[190]\tTrain-rmse:8.40891\tValidation-rmse:8.22199\tTrain-r2:0.56351\tValidation-r2:0.56568\n",
      "[200]\tTrain-rmse:8.29673\tValidation-rmse:8.12314\tTrain-r2:0.57508\tValidation-r2:0.57607\n",
      "[210]\tTrain-rmse:8.21167\tValidation-rmse:8.05674\tTrain-r2:0.58375\tValidation-r2:0.58297\n",
      "[220]\tTrain-rmse:8.15340\tValidation-rmse:8.01053\tTrain-r2:0.58964\tValidation-r2:0.58774\n",
      "[230]\tTrain-rmse:8.11060\tValidation-rmse:7.97844\tTrain-r2:0.59393\tValidation-r2:0.59103\n",
      "[240]\tTrain-rmse:8.07714\tValidation-rmse:7.95991\tTrain-r2:0.59728\tValidation-r2:0.59293\n",
      "[250]\tTrain-rmse:8.05325\tValidation-rmse:7.94665\tTrain-r2:0.59966\tValidation-r2:0.59429\n",
      "[260]\tTrain-rmse:8.03193\tValidation-rmse:7.93612\tTrain-r2:0.60177\tValidation-r2:0.59536\n",
      "[270]\tTrain-rmse:8.01343\tValidation-rmse:7.92921\tTrain-r2:0.60360\tValidation-r2:0.59607\n",
      "[280]\tTrain-rmse:7.99647\tValidation-rmse:7.92559\tTrain-r2:0.60528\tValidation-r2:0.59643\n",
      "[290]\tTrain-rmse:7.97848\tValidation-rmse:7.92393\tTrain-r2:0.60705\tValidation-r2:0.59660\n",
      "[300]\tTrain-rmse:7.96557\tValidation-rmse:7.92404\tTrain-r2:0.60832\tValidation-r2:0.59659\n",
      "[310]\tTrain-rmse:7.95188\tValidation-rmse:7.92426\tTrain-r2:0.60967\tValidation-r2:0.59657\n",
      "[320]\tTrain-rmse:7.93985\tValidation-rmse:7.92588\tTrain-r2:0.61085\tValidation-r2:0.59640\n",
      "[330]\tTrain-rmse:7.92722\tValidation-rmse:7.92459\tTrain-r2:0.61209\tValidation-r2:0.59654\n",
      "[340]\tTrain-rmse:7.91463\tValidation-rmse:7.92708\tTrain-r2:0.61332\tValidation-r2:0.59628\n",
      "Stopping. Best iteration:\n",
      "[293]\tTrain-rmse:7.97546\tValidation-rmse:7.92314\tTrain-r2:0.60735\tValidation-r2:0.59668\n",
      "\n"
     ]
    }
   ],
   "source": [
    "import xgboost as xgb\n",
    "from sklearn.metrics import r2_score\n",
    "from sklearn.model_selection import train_test_split\n",
    "\n",
    "X_train_New, X_valid, y_train_New, y_valid = train_test_split(X_train,y_train,test_size=0.2,random_state=42)\n",
    "d_train = xgb.DMatrix(X_train_New,label=y_train_New)\n",
    "d_valid = xgb.DMatrix(X_valid,label=y_valid)\n",
    "d_test = xgb.DMatrix(X_test)\n",
    "\n",
    "params={}\n",
    "params['Objective'] = 'reg:linear'\n",
    "params['eta'] = 0.02\n",
    "params['max_depth'] = 4\n",
    "\n",
    "def xgb_r2score(preds,dtrain):\n",
    "    labels = dtrain.get_label()\n",
    "    return 'r2',r2_score(labels,preds)\n",
    "\n",
    "watchlist = [(d_train,'Train'),(d_valid,'Validation')]\n",
    "\n",
    "clf = xgb.train(params,d_train,1000,watchlist,early_stopping_rounds=50,\n",
    "                feval=xgb_r2score,maximize=True,verbose_eval=10)"
   ]
  },
  {
   "cell_type": "markdown",
   "metadata": {},
   "source": [
    "### Predictions"
   ]
  },
  {
   "cell_type": "code",
   "execution_count": 13,
   "metadata": {},
   "outputs": [],
   "source": [
    "p_test = clf.predict(d_test)\n",
    "\n",
    "pred = pd.DataFrame()\n",
    "\n",
    "pred['ID'] = id_test\n",
    "pred['y'] = p_test"
   ]
  },
  {
   "cell_type": "code",
   "execution_count": 14,
   "metadata": {},
   "outputs": [
    {
     "data": {
      "text/html": [
       "<div>\n",
       "<style scoped>\n",
       "    .dataframe tbody tr th:only-of-type {\n",
       "        vertical-align: middle;\n",
       "    }\n",
       "\n",
       "    .dataframe tbody tr th {\n",
       "        vertical-align: top;\n",
       "    }\n",
       "\n",
       "    .dataframe thead th {\n",
       "        text-align: right;\n",
       "    }\n",
       "</style>\n",
       "<table border=\"1\" class=\"dataframe\">\n",
       "  <thead>\n",
       "    <tr style=\"text-align: right;\">\n",
       "      <th></th>\n",
       "      <th>ID</th>\n",
       "      <th>y</th>\n",
       "    </tr>\n",
       "  </thead>\n",
       "  <tbody>\n",
       "    <tr>\n",
       "      <th>0</th>\n",
       "      <td>0</td>\n",
       "      <td>87.082245</td>\n",
       "    </tr>\n",
       "    <tr>\n",
       "      <th>1</th>\n",
       "      <td>6</td>\n",
       "      <td>104.427322</td>\n",
       "    </tr>\n",
       "    <tr>\n",
       "      <th>2</th>\n",
       "      <td>7</td>\n",
       "      <td>89.121895</td>\n",
       "    </tr>\n",
       "    <tr>\n",
       "      <th>3</th>\n",
       "      <td>9</td>\n",
       "      <td>76.657997</td>\n",
       "    </tr>\n",
       "    <tr>\n",
       "      <th>4</th>\n",
       "      <td>13</td>\n",
       "      <td>111.150192</td>\n",
       "    </tr>\n",
       "    <tr>\n",
       "      <th>5</th>\n",
       "      <td>18</td>\n",
       "      <td>92.789383</td>\n",
       "    </tr>\n",
       "    <tr>\n",
       "      <th>6</th>\n",
       "      <td>24</td>\n",
       "      <td>110.989510</td>\n",
       "    </tr>\n",
       "    <tr>\n",
       "      <th>7</th>\n",
       "      <td>25</td>\n",
       "      <td>93.983223</td>\n",
       "    </tr>\n",
       "    <tr>\n",
       "      <th>8</th>\n",
       "      <td>27</td>\n",
       "      <td>115.976860</td>\n",
       "    </tr>\n",
       "    <tr>\n",
       "      <th>9</th>\n",
       "      <td>30</td>\n",
       "      <td>94.442657</td>\n",
       "    </tr>\n",
       "  </tbody>\n",
       "</table>\n",
       "</div>"
      ],
      "text/plain": [
       "   ID           y\n",
       "0   0   87.082245\n",
       "1   6  104.427322\n",
       "2   7   89.121895\n",
       "3   9   76.657997\n",
       "4  13  111.150192\n",
       "5  18   92.789383\n",
       "6  24  110.989510\n",
       "7  25   93.983223\n",
       "8  27  115.976860\n",
       "9  30   94.442657"
      ]
     },
     "execution_count": 14,
     "metadata": {},
     "output_type": "execute_result"
    }
   ],
   "source": [
    "pred.head(10)"
   ]
  },
  {
   "cell_type": "markdown",
   "metadata": {},
   "source": [
    "### Dimentionality Reduction using PCA"
   ]
  },
  {
   "cell_type": "code",
   "execution_count": 15,
   "metadata": {},
   "outputs": [],
   "source": [
    "from sklearn.decomposition import PCA\n",
    "pca2 = PCA(n_components=40)\n",
    "pca2_results_1 = pca2.fit_transform(X_train)"
   ]
  },
  {
   "cell_type": "markdown",
   "metadata": {},
   "source": [
    "### XGBoost after applying PCA"
   ]
  },
  {
   "cell_type": "code",
   "execution_count": 16,
   "metadata": {},
   "outputs": [
    {
     "name": "stdout",
     "output_type": "stream",
     "text": [
      "[14:01:25] WARNING: C:\\Users\\Administrator\\workspace\\xgboost-win64_release_1.2.0\\src\\learner.cc:516: \n",
      "Parameters: { Objective } might not be used.\n",
      "\n",
      "  This may not be accurate due to some parameters are only used in language bindings but\n",
      "  passed down to XGBoost core.  Or some parameters are not used but slip through this\n",
      "  verification. Please open an issue if you find above cases.\n",
      "\n",
      "\n",
      "[0]\tTrain-rmse:98.99559\tValidation-rmse:98.88786\tTrain-r2:-59.49568\tValidation-r2:-61.82566\n",
      "Multiple eval metrics have been passed: 'Validation-r2' will be used for early stopping.\n",
      "\n",
      "Will train until Validation-r2 hasn't improved in 50 rounds.\n",
      "[10]\tTrain-rmse:81.13055\tValidation-rmse:81.06931\tTrain-r2:-39.63137\tValidation-r2:-41.22445\n",
      "[20]\tTrain-rmse:66.56940\tValidation-rmse:66.53451\tTrain-r2:-26.35532\tValidation-r2:-27.44101\n",
      "[30]\tTrain-rmse:54.71151\tValidation-rmse:54.71440\tTrain-r2:-17.47779\tValidation-r2:-18.23333\n",
      "[40]\tTrain-rmse:45.07062\tValidation-rmse:45.09584\tTrain-r2:-11.53949\tValidation-r2:-12.06544\n",
      "[50]\tTrain-rmse:37.24510\tValidation-rmse:37.29644\tTrain-r2:-7.56310\tValidation-r2:-7.93688\n",
      "[60]\tTrain-rmse:30.91226\tValidation-rmse:30.97218\tTrain-r2:-4.89867\tValidation-r2:-5.16303\n",
      "[70]\tTrain-rmse:25.80753\tValidation-rmse:25.87994\tTrain-r2:-3.11136\tValidation-r2:-3.30306\n",
      "[80]\tTrain-rmse:21.71211\tValidation-rmse:21.81375\tTrain-r2:-1.91003\tValidation-r2:-2.05712\n",
      "[90]\tTrain-rmse:18.44814\tValidation-rmse:18.57995\tTrain-r2:-1.10086\tValidation-r2:-1.21789\n",
      "[100]\tTrain-rmse:15.87387\tValidation-rmse:16.04762\tTrain-r2:-0.55546\tValidation-r2:-0.65452\n",
      "[110]\tTrain-rmse:13.86416\tValidation-rmse:14.09408\tTrain-r2:-0.18653\tValidation-r2:-0.27622\n",
      "[120]\tTrain-rmse:12.31323\tValidation-rmse:12.60853\tTrain-r2:0.06408\tValidation-r2:-0.02136\n",
      "[130]\tTrain-rmse:11.12552\tValidation-rmse:11.48666\tTrain-r2:0.23593\tValidation-r2:0.15231\n",
      "[140]\tTrain-rmse:10.23325\tValidation-rmse:10.66641\tTrain-r2:0.35357\tValidation-r2:0.26905\n",
      "[150]\tTrain-rmse:9.55866\tValidation-rmse:10.07782\tTrain-r2:0.43599\tValidation-r2:0.34749\n",
      "[160]\tTrain-rmse:9.06087\tValidation-rmse:9.65226\tTrain-r2:0.49321\tValidation-r2:0.40144\n",
      "[170]\tTrain-rmse:8.67646\tValidation-rmse:9.35506\tTrain-r2:0.53529\tValidation-r2:0.43773\n",
      "[180]\tTrain-rmse:8.38969\tValidation-rmse:9.15126\tTrain-r2:0.56551\tValidation-r2:0.46196\n",
      "[190]\tTrain-rmse:8.16404\tValidation-rmse:9.00806\tTrain-r2:0.58856\tValidation-r2:0.47867\n",
      "[200]\tTrain-rmse:7.99700\tValidation-rmse:8.91409\tTrain-r2:0.60523\tValidation-r2:0.48949\n",
      "[210]\tTrain-rmse:7.86588\tValidation-rmse:8.85213\tTrain-r2:0.61807\tValidation-r2:0.49656\n",
      "[220]\tTrain-rmse:7.75760\tValidation-rmse:8.81168\tTrain-r2:0.62851\tValidation-r2:0.50115\n",
      "[230]\tTrain-rmse:7.66243\tValidation-rmse:8.77994\tTrain-r2:0.63757\tValidation-r2:0.50474\n",
      "[240]\tTrain-rmse:7.57527\tValidation-rmse:8.76525\tTrain-r2:0.64577\tValidation-r2:0.50640\n",
      "[250]\tTrain-rmse:7.50433\tValidation-rmse:8.76116\tTrain-r2:0.65237\tValidation-r2:0.50686\n",
      "[260]\tTrain-rmse:7.43955\tValidation-rmse:8.75793\tTrain-r2:0.65835\tValidation-r2:0.50722\n",
      "[270]\tTrain-rmse:7.38172\tValidation-rmse:8.76164\tTrain-r2:0.66364\tValidation-r2:0.50680\n",
      "[280]\tTrain-rmse:7.33020\tValidation-rmse:8.76335\tTrain-r2:0.66832\tValidation-r2:0.50661\n",
      "[290]\tTrain-rmse:7.27651\tValidation-rmse:8.77026\tTrain-r2:0.67316\tValidation-r2:0.50583\n",
      "[300]\tTrain-rmse:7.22165\tValidation-rmse:8.77907\tTrain-r2:0.67807\tValidation-r2:0.50484\n",
      "[310]\tTrain-rmse:7.17035\tValidation-rmse:8.78121\tTrain-r2:0.68262\tValidation-r2:0.50460\n",
      "Stopping. Best iteration:\n",
      "[260]\tTrain-rmse:7.43955\tValidation-rmse:8.75793\tTrain-r2:0.65835\tValidation-r2:0.50722\n",
      "\n"
     ]
    }
   ],
   "source": [
    "X_train_pca, X_valid, y_train_pca, y_valid = train_test_split(pca2_results_1,y_train,test_size=0.2,random_state=42)\n",
    "d_train = xgb.DMatrix(X_train_pca,label=y_train_pca)\n",
    "d_valid = xgb.DMatrix(X_valid,label=y_valid)\n",
    "d_test_pca = xgb.DMatrix(pca2_results_1)\n",
    "\n",
    "watchlist = [(d_train,'Train'),(d_valid,'Validation')]\n",
    "\n",
    "clf2 = xgb.train(params,d_train,1000,watchlist,early_stopping_rounds=50,\n",
    "                feval=xgb_r2score,maximize=True,verbose_eval=10)"
   ]
  },
  {
   "cell_type": "code",
   "execution_count": 17,
   "metadata": {},
   "outputs": [],
   "source": [
    "p_test_pca = clf2.predict(d_test_pca)"
   ]
  },
  {
   "cell_type": "code",
   "execution_count": 18,
   "metadata": {},
   "outputs": [
    {
     "data": {
      "text/html": [
       "<div>\n",
       "<style scoped>\n",
       "    .dataframe tbody tr th:only-of-type {\n",
       "        vertical-align: middle;\n",
       "    }\n",
       "\n",
       "    .dataframe tbody tr th {\n",
       "        vertical-align: top;\n",
       "    }\n",
       "\n",
       "    .dataframe thead th {\n",
       "        text-align: right;\n",
       "    }\n",
       "</style>\n",
       "<table border=\"1\" class=\"dataframe\">\n",
       "  <thead>\n",
       "    <tr style=\"text-align: right;\">\n",
       "      <th></th>\n",
       "      <th>ID</th>\n",
       "      <th>y</th>\n",
       "    </tr>\n",
       "  </thead>\n",
       "  <tbody>\n",
       "    <tr>\n",
       "      <th>0</th>\n",
       "      <td>0</td>\n",
       "      <td>112.389236</td>\n",
       "    </tr>\n",
       "    <tr>\n",
       "      <th>1</th>\n",
       "      <td>6</td>\n",
       "      <td>96.970299</td>\n",
       "    </tr>\n",
       "    <tr>\n",
       "      <th>2</th>\n",
       "      <td>7</td>\n",
       "      <td>78.907341</td>\n",
       "    </tr>\n",
       "    <tr>\n",
       "      <th>3</th>\n",
       "      <td>9</td>\n",
       "      <td>81.068672</td>\n",
       "    </tr>\n",
       "    <tr>\n",
       "      <th>4</th>\n",
       "      <td>13</td>\n",
       "      <td>80.515297</td>\n",
       "    </tr>\n",
       "    <tr>\n",
       "      <th>5</th>\n",
       "      <td>18</td>\n",
       "      <td>96.761711</td>\n",
       "    </tr>\n",
       "    <tr>\n",
       "      <th>6</th>\n",
       "      <td>24</td>\n",
       "      <td>97.718193</td>\n",
       "    </tr>\n",
       "    <tr>\n",
       "      <th>7</th>\n",
       "      <td>25</td>\n",
       "      <td>94.127716</td>\n",
       "    </tr>\n",
       "    <tr>\n",
       "      <th>8</th>\n",
       "      <td>27</td>\n",
       "      <td>110.189186</td>\n",
       "    </tr>\n",
       "    <tr>\n",
       "      <th>9</th>\n",
       "      <td>30</td>\n",
       "      <td>114.030663</td>\n",
       "    </tr>\n",
       "  </tbody>\n",
       "</table>\n",
       "</div>"
      ],
      "text/plain": [
       "   ID           y\n",
       "0   0  112.389236\n",
       "1   6   96.970299\n",
       "2   7   78.907341\n",
       "3   9   81.068672\n",
       "4  13   80.515297\n",
       "5  18   96.761711\n",
       "6  24   97.718193\n",
       "7  25   94.127716\n",
       "8  27  110.189186\n",
       "9  30  114.030663"
      ]
     },
     "execution_count": 18,
     "metadata": {},
     "output_type": "execute_result"
    }
   ],
   "source": [
    "pred_pca = pd.DataFrame()\n",
    "\n",
    "pred_pca['ID'] = id_test\n",
    "pred_pca['y'] = p_test_pca\n",
    "pred_pca.head(10)"
   ]
  },
  {
   "cell_type": "code",
   "execution_count": null,
   "metadata": {},
   "outputs": [],
   "source": []
  }
 ],
 "metadata": {
  "kernelspec": {
   "display_name": "Python 3",
   "language": "python",
   "name": "python3"
  },
  "language_info": {
   "codemirror_mode": {
    "name": "ipython",
    "version": 3
   },
   "file_extension": ".py",
   "mimetype": "text/x-python",
   "name": "python",
   "nbconvert_exporter": "python",
   "pygments_lexer": "ipython3",
   "version": "3.7.6"
  }
 },
 "nbformat": 4,
 "nbformat_minor": 4
}
