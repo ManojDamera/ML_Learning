{
 "cells": [
  {
   "cell_type": "markdown",
   "metadata": {},
   "source": [
    "\n",
    "## Build user-based recommendation model for Amazon"
   ]
  },
  {
   "cell_type": "code",
   "execution_count": 1,
   "metadata": {},
   "outputs": [],
   "source": [
    "import warnings\n",
    "warnings.filterwarnings('ignore')\n",
    "\n",
    "\n",
    "import pandas as pd\n",
    "import numpy as np"
   ]
  },
  {
   "cell_type": "code",
   "execution_count": 2,
   "metadata": {},
   "outputs": [],
   "source": [
    "df1 = pd.read_csv('Amazon - Movies and TV Ratings.csv')"
   ]
  },
  {
   "cell_type": "code",
   "execution_count": 3,
   "metadata": {},
   "outputs": [
    {
     "data": {
      "text/html": [
       "<div>\n",
       "<style scoped>\n",
       "    .dataframe tbody tr th:only-of-type {\n",
       "        vertical-align: middle;\n",
       "    }\n",
       "\n",
       "    .dataframe tbody tr th {\n",
       "        vertical-align: top;\n",
       "    }\n",
       "\n",
       "    .dataframe thead th {\n",
       "        text-align: right;\n",
       "    }\n",
       "</style>\n",
       "<table border=\"1\" class=\"dataframe\">\n",
       "  <thead>\n",
       "    <tr style=\"text-align: right;\">\n",
       "      <th></th>\n",
       "      <th>user_id</th>\n",
       "      <th>Movie1</th>\n",
       "      <th>Movie2</th>\n",
       "      <th>Movie3</th>\n",
       "      <th>Movie4</th>\n",
       "      <th>Movie5</th>\n",
       "      <th>Movie6</th>\n",
       "      <th>Movie7</th>\n",
       "      <th>Movie8</th>\n",
       "      <th>Movie9</th>\n",
       "      <th>...</th>\n",
       "      <th>Movie197</th>\n",
       "      <th>Movie198</th>\n",
       "      <th>Movie199</th>\n",
       "      <th>Movie200</th>\n",
       "      <th>Movie201</th>\n",
       "      <th>Movie202</th>\n",
       "      <th>Movie203</th>\n",
       "      <th>Movie204</th>\n",
       "      <th>Movie205</th>\n",
       "      <th>Movie206</th>\n",
       "    </tr>\n",
       "  </thead>\n",
       "  <tbody>\n",
       "    <tr>\n",
       "      <th>0</th>\n",
       "      <td>A3R5OBKS7OM2IR</td>\n",
       "      <td>5.0</td>\n",
       "      <td>5.0</td>\n",
       "      <td>NaN</td>\n",
       "      <td>NaN</td>\n",
       "      <td>NaN</td>\n",
       "      <td>NaN</td>\n",
       "      <td>NaN</td>\n",
       "      <td>NaN</td>\n",
       "      <td>NaN</td>\n",
       "      <td>...</td>\n",
       "      <td>NaN</td>\n",
       "      <td>NaN</td>\n",
       "      <td>NaN</td>\n",
       "      <td>NaN</td>\n",
       "      <td>NaN</td>\n",
       "      <td>NaN</td>\n",
       "      <td>NaN</td>\n",
       "      <td>NaN</td>\n",
       "      <td>NaN</td>\n",
       "      <td>NaN</td>\n",
       "    </tr>\n",
       "    <tr>\n",
       "      <th>1</th>\n",
       "      <td>AH3QC2PC1VTGP</td>\n",
       "      <td>NaN</td>\n",
       "      <td>NaN</td>\n",
       "      <td>2.0</td>\n",
       "      <td>NaN</td>\n",
       "      <td>NaN</td>\n",
       "      <td>NaN</td>\n",
       "      <td>NaN</td>\n",
       "      <td>NaN</td>\n",
       "      <td>NaN</td>\n",
       "      <td>...</td>\n",
       "      <td>NaN</td>\n",
       "      <td>NaN</td>\n",
       "      <td>NaN</td>\n",
       "      <td>NaN</td>\n",
       "      <td>NaN</td>\n",
       "      <td>NaN</td>\n",
       "      <td>NaN</td>\n",
       "      <td>NaN</td>\n",
       "      <td>NaN</td>\n",
       "      <td>NaN</td>\n",
       "    </tr>\n",
       "    <tr>\n",
       "      <th>2</th>\n",
       "      <td>A3LKP6WPMP9UKX</td>\n",
       "      <td>NaN</td>\n",
       "      <td>NaN</td>\n",
       "      <td>NaN</td>\n",
       "      <td>5.0</td>\n",
       "      <td>NaN</td>\n",
       "      <td>NaN</td>\n",
       "      <td>NaN</td>\n",
       "      <td>NaN</td>\n",
       "      <td>NaN</td>\n",
       "      <td>...</td>\n",
       "      <td>NaN</td>\n",
       "      <td>NaN</td>\n",
       "      <td>NaN</td>\n",
       "      <td>NaN</td>\n",
       "      <td>NaN</td>\n",
       "      <td>NaN</td>\n",
       "      <td>NaN</td>\n",
       "      <td>NaN</td>\n",
       "      <td>NaN</td>\n",
       "      <td>NaN</td>\n",
       "    </tr>\n",
       "    <tr>\n",
       "      <th>3</th>\n",
       "      <td>AVIY68KEPQ5ZD</td>\n",
       "      <td>NaN</td>\n",
       "      <td>NaN</td>\n",
       "      <td>NaN</td>\n",
       "      <td>5.0</td>\n",
       "      <td>NaN</td>\n",
       "      <td>NaN</td>\n",
       "      <td>NaN</td>\n",
       "      <td>NaN</td>\n",
       "      <td>NaN</td>\n",
       "      <td>...</td>\n",
       "      <td>NaN</td>\n",
       "      <td>NaN</td>\n",
       "      <td>NaN</td>\n",
       "      <td>NaN</td>\n",
       "      <td>NaN</td>\n",
       "      <td>NaN</td>\n",
       "      <td>NaN</td>\n",
       "      <td>NaN</td>\n",
       "      <td>NaN</td>\n",
       "      <td>NaN</td>\n",
       "    </tr>\n",
       "    <tr>\n",
       "      <th>4</th>\n",
       "      <td>A1CV1WROP5KTTW</td>\n",
       "      <td>NaN</td>\n",
       "      <td>NaN</td>\n",
       "      <td>NaN</td>\n",
       "      <td>NaN</td>\n",
       "      <td>5.0</td>\n",
       "      <td>NaN</td>\n",
       "      <td>NaN</td>\n",
       "      <td>NaN</td>\n",
       "      <td>NaN</td>\n",
       "      <td>...</td>\n",
       "      <td>NaN</td>\n",
       "      <td>NaN</td>\n",
       "      <td>NaN</td>\n",
       "      <td>NaN</td>\n",
       "      <td>NaN</td>\n",
       "      <td>NaN</td>\n",
       "      <td>NaN</td>\n",
       "      <td>NaN</td>\n",
       "      <td>NaN</td>\n",
       "      <td>NaN</td>\n",
       "    </tr>\n",
       "  </tbody>\n",
       "</table>\n",
       "<p>5 rows × 207 columns</p>\n",
       "</div>"
      ],
      "text/plain": [
       "          user_id  Movie1  Movie2  Movie3  Movie4  Movie5  Movie6  Movie7  \\\n",
       "0  A3R5OBKS7OM2IR     5.0     5.0     NaN     NaN     NaN     NaN     NaN   \n",
       "1   AH3QC2PC1VTGP     NaN     NaN     2.0     NaN     NaN     NaN     NaN   \n",
       "2  A3LKP6WPMP9UKX     NaN     NaN     NaN     5.0     NaN     NaN     NaN   \n",
       "3   AVIY68KEPQ5ZD     NaN     NaN     NaN     5.0     NaN     NaN     NaN   \n",
       "4  A1CV1WROP5KTTW     NaN     NaN     NaN     NaN     5.0     NaN     NaN   \n",
       "\n",
       "   Movie8  Movie9  ...  Movie197  Movie198  Movie199  Movie200  Movie201  \\\n",
       "0     NaN     NaN  ...       NaN       NaN       NaN       NaN       NaN   \n",
       "1     NaN     NaN  ...       NaN       NaN       NaN       NaN       NaN   \n",
       "2     NaN     NaN  ...       NaN       NaN       NaN       NaN       NaN   \n",
       "3     NaN     NaN  ...       NaN       NaN       NaN       NaN       NaN   \n",
       "4     NaN     NaN  ...       NaN       NaN       NaN       NaN       NaN   \n",
       "\n",
       "   Movie202  Movie203  Movie204  Movie205  Movie206  \n",
       "0       NaN       NaN       NaN       NaN       NaN  \n",
       "1       NaN       NaN       NaN       NaN       NaN  \n",
       "2       NaN       NaN       NaN       NaN       NaN  \n",
       "3       NaN       NaN       NaN       NaN       NaN  \n",
       "4       NaN       NaN       NaN       NaN       NaN  \n",
       "\n",
       "[5 rows x 207 columns]"
      ]
     },
     "execution_count": 3,
     "metadata": {},
     "output_type": "execute_result"
    }
   ],
   "source": [
    "df1.head()"
   ]
  },
  {
   "cell_type": "markdown",
   "metadata": {},
   "source": [
    "# Exploratory Data Analysis\n",
    "## Which movies have maximum views/ratings\n",
    "* Printing First 10 movies having maximum views/ratings"
   ]
  },
  {
   "cell_type": "code",
   "execution_count": 4,
   "metadata": {},
   "outputs": [
    {
     "data": {
      "text/plain": [
       "['Movie127',\n",
       " 'Movie140',\n",
       " 'Movie16',\n",
       " 'Movie103',\n",
       " 'Movie29',\n",
       " 'Movie91',\n",
       " 'Movie92',\n",
       " 'Movie89',\n",
       " 'Movie158']"
      ]
     },
     "execution_count": 4,
     "metadata": {},
     "output_type": "execute_result"
    }
   ],
   "source": [
    "movie_list = df1.notna().sum(axis=0).sort_values(ascending = False).head(10)\n",
    "movie_list.index.tolist()[1:]"
   ]
  },
  {
   "cell_type": "markdown",
   "metadata": {},
   "source": [
    "## What is the average rating for each movie ? \n",
    "* Printing Average rating of first 10 movies"
   ]
  },
  {
   "cell_type": "code",
   "execution_count": 5,
   "metadata": {},
   "outputs": [],
   "source": [
    "df2 = df1.drop('user_id',axis=1).mean()\n",
    "df3 = df1.notna().sum(axis=0)\n",
    "df3.drop(df3.index[0],inplace=True)"
   ]
  },
  {
   "cell_type": "code",
   "execution_count": 6,
   "metadata": {},
   "outputs": [
    {
     "data": {
      "text/html": [
       "<div>\n",
       "<style scoped>\n",
       "    .dataframe tbody tr th:only-of-type {\n",
       "        vertical-align: middle;\n",
       "    }\n",
       "\n",
       "    .dataframe tbody tr th {\n",
       "        vertical-align: top;\n",
       "    }\n",
       "\n",
       "    .dataframe thead th {\n",
       "        text-align: right;\n",
       "    }\n",
       "</style>\n",
       "<table border=\"1\" class=\"dataframe\">\n",
       "  <thead>\n",
       "    <tr style=\"text-align: right;\">\n",
       "      <th></th>\n",
       "      <th>AvgRating</th>\n",
       "      <th>RatingCount</th>\n",
       "    </tr>\n",
       "  </thead>\n",
       "  <tbody>\n",
       "    <tr>\n",
       "      <th>Movie1</th>\n",
       "      <td>5.000000</td>\n",
       "      <td>1</td>\n",
       "    </tr>\n",
       "    <tr>\n",
       "      <th>Movie2</th>\n",
       "      <td>5.000000</td>\n",
       "      <td>1</td>\n",
       "    </tr>\n",
       "    <tr>\n",
       "      <th>Movie3</th>\n",
       "      <td>2.000000</td>\n",
       "      <td>1</td>\n",
       "    </tr>\n",
       "    <tr>\n",
       "      <th>Movie4</th>\n",
       "      <td>5.000000</td>\n",
       "      <td>2</td>\n",
       "    </tr>\n",
       "    <tr>\n",
       "      <th>Movie5</th>\n",
       "      <td>4.103448</td>\n",
       "      <td>29</td>\n",
       "    </tr>\n",
       "    <tr>\n",
       "      <th>Movie6</th>\n",
       "      <td>4.000000</td>\n",
       "      <td>1</td>\n",
       "    </tr>\n",
       "    <tr>\n",
       "      <th>Movie7</th>\n",
       "      <td>5.000000</td>\n",
       "      <td>1</td>\n",
       "    </tr>\n",
       "    <tr>\n",
       "      <th>Movie8</th>\n",
       "      <td>5.000000</td>\n",
       "      <td>1</td>\n",
       "    </tr>\n",
       "    <tr>\n",
       "      <th>Movie9</th>\n",
       "      <td>5.000000</td>\n",
       "      <td>1</td>\n",
       "    </tr>\n",
       "    <tr>\n",
       "      <th>Movie10</th>\n",
       "      <td>5.000000</td>\n",
       "      <td>1</td>\n",
       "    </tr>\n",
       "  </tbody>\n",
       "</table>\n",
       "</div>"
      ],
      "text/plain": [
       "         AvgRating  RatingCount\n",
       "Movie1    5.000000            1\n",
       "Movie2    5.000000            1\n",
       "Movie3    2.000000            1\n",
       "Movie4    5.000000            2\n",
       "Movie5    4.103448           29\n",
       "Movie6    4.000000            1\n",
       "Movie7    5.000000            1\n",
       "Movie8    5.000000            1\n",
       "Movie9    5.000000            1\n",
       "Movie10   5.000000            1"
      ]
     },
     "execution_count": 6,
     "metadata": {},
     "output_type": "execute_result"
    }
   ],
   "source": [
    "df_WithAvgRatingAndVotingCount = pd.concat([df2, df3], axis=1, sort=False)\n",
    "df_WithAvgRatingAndVotingCount.columns=['AvgRating','RatingCount']\n",
    "df_WithAvgRatingAndVotingCount.head(10)"
   ]
  },
  {
   "cell_type": "code",
   "execution_count": 7,
   "metadata": {},
   "outputs": [
    {
     "name": "stdout",
     "output_type": "stream",
     "text": [
      "Average rating on dataset 4.448436665448387 and Minimum no. of votes Required 9.0\n"
     ]
    }
   ],
   "source": [
    "C = df_WithAvgRatingAndVotingCount['AvgRating'].mean() #Mean vote average on the whole dataset\n",
    "m = df_WithAvgRatingAndVotingCount['RatingCount'].quantile(0.85) # Minimum number of votes required to be listed\n",
    "\n",
    "print(f'Average rating on dataset {C} and Minimum no. of votes Required {m}')"
   ]
  },
  {
   "cell_type": "code",
   "execution_count": 8,
   "metadata": {},
   "outputs": [],
   "source": [
    "def wtdrt(x,m=m,C=C):\n",
    "    V = x['RatingCount']\n",
    "    R = x['AvgRating']\n",
    "    \n",
    "    return (R*(V/(V+m)) + (C*(m/(V+m))))"
   ]
  },
  {
   "cell_type": "code",
   "execution_count": 9,
   "metadata": {},
   "outputs": [],
   "source": [
    "df_MovieListConsidredForScore = df_WithAvgRatingAndVotingCount.loc[df_WithAvgRatingAndVotingCount['RatingCount']>=m]"
   ]
  },
  {
   "cell_type": "code",
   "execution_count": 10,
   "metadata": {},
   "outputs": [],
   "source": [
    "df_MovieListConsidredForScore['Score'] = df_MovieListConsidredForScore.apply(wtdrt,axis=1)"
   ]
  },
  {
   "cell_type": "markdown",
   "metadata": {},
   "source": [
    "## Top5 movies with maximum Score"
   ]
  },
  {
   "cell_type": "code",
   "execution_count": 11,
   "metadata": {},
   "outputs": [
    {
     "data": {
      "text/plain": [
       "Movie140    4.828000\n",
       "Movie29     4.793793\n",
       "Movie158    4.773812\n",
       "Movie92     4.745781\n",
       "Movie206    4.728906\n",
       "Name: Score, dtype: float64"
      ]
     },
     "execution_count": 11,
     "metadata": {},
     "output_type": "execute_result"
    }
   ],
   "source": [
    "df_MovieListConsidredForScore['Score'].sort_values(ascending=False).head(5)"
   ]
  },
  {
   "cell_type": "markdown",
   "metadata": {},
   "source": [
    "## Top5 Movies with least Audience"
   ]
  },
  {
   "cell_type": "code",
   "execution_count": 12,
   "metadata": {},
   "outputs": [
    {
     "data": {
      "text/plain": [
       "['Movie3', 'Movie6', 'Movie1', 'Movie2', 'Movie7']"
      ]
     },
     "execution_count": 12,
     "metadata": {},
     "output_type": "execute_result"
    }
   ],
   "source": [
    "movie_list_with_least_audience = \\\n",
    "df_WithAvgRatingAndVotingCount[df_WithAvgRatingAndVotingCount['RatingCount'] == 1]['AvgRating'].head().sort_values \\\n",
    "(ascending=True)\n",
    "movie_list_with_least_audience.index.tolist()"
   ]
  },
  {
   "cell_type": "markdown",
   "metadata": {},
   "source": [
    "# Build Recommendation Model\n",
    "## Divide the data into training and test data"
   ]
  },
  {
   "cell_type": "code",
   "execution_count": null,
   "metadata": {},
   "outputs": [],
   "source": []
  }
 ],
 "metadata": {
  "kernelspec": {
   "display_name": "Python 3",
   "language": "python",
   "name": "python3"
  },
  "language_info": {
   "codemirror_mode": {
    "name": "ipython",
    "version": 3
   },
   "file_extension": ".py",
   "mimetype": "text/x-python",
   "name": "python",
   "nbconvert_exporter": "python",
   "pygments_lexer": "ipython3",
   "version": "3.7.4"
  }
 },
 "nbformat": 4,
 "nbformat_minor": 2
}
